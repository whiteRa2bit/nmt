{
 "cells": [
  {
   "cell_type": "code",
   "execution_count": 1,
   "metadata": {},
   "outputs": [],
   "source": [
    "# !pip install ../"
   ]
  },
  {
   "cell_type": "code",
   "execution_count": 2,
   "metadata": {
    "scrolled": true
   },
   "outputs": [],
   "source": [
    "import numpy as np\n",
    "import matplotlib.pyplot as plt\n",
    "import tqdm\n",
    "from collections import defaultdict\n",
    "\n",
    "from nmt.vocab import get_src_vocab, get_trg_vocab\n",
    "from nmt.dataset import TextDataset\n",
    "# from nmt.nets.baseline_net import BasicNet\n",
    "from nmt.config import TRAIN_SRC_PATH, TRAIN_TRG_PATH, \\\n",
    "        VAL_SRC_PATH, VAL_TRG_PATH, CONFIG"
   ]
  },
  {
   "cell_type": "code",
   "execution_count": 3,
   "metadata": {},
   "outputs": [],
   "source": [
    "data_config = CONFIG[\"data\"]\n",
    "train_config = CONFIG[\"train\"]"
   ]
  },
  {
   "cell_type": "code",
   "execution_count": 4,
   "metadata": {},
   "outputs": [],
   "source": [
    "src_vocab = get_src_vocab(TRAIN_SRC_PATH, data_config)\n",
    "trg_vocab = get_trg_vocab(TRAIN_TRG_PATH, data_config)\n",
    "train_dataset = TextDataset(TRAIN_SRC_PATH, TRAIN_TRG_PATH, src_vocab, trg_vocab)\n",
    "val_dataset = TextDataset(VAL_SRC_PATH, VAL_TRG_PATH, src_vocab, trg_vocab)"
   ]
  },
  {
   "cell_type": "code",
   "execution_count": 5,
   "metadata": {},
   "outputs": [],
   "source": [
    "def plot_lens_hist(texts, perc = 95):\n",
    "    lens = [len(text.split()) for text in texts]\n",
    "    plt.hist(lens)\n",
    "    plt.axvline(x=np.percentile(lens, perc), color='r')\n",
    "    plt.legend([f'{perc}% percentile'])\n",
    "    plt.show()\n",
    "    print(f\"{perc}% percentile:\", np.percentile(lens, perc))"
   ]
  },
  {
   "cell_type": "code",
   "execution_count": 6,
   "metadata": {
    "scrolled": true
   },
   "outputs": [
    {
     "data": {
      "image/png": "[encoded data removed]",
      "text/plain": [
       "<Figure size 432x288 with 1 Axes>"
      ]
     },
     "metadata": {
      "needs_background": "light"
     },
     "output_type": "display_data"
    },
    {
     "name": "stdout",
     "output_type": "stream",
     "text": [
      "95% percentile: 45.0\n"
     ]
    }
   ],
   "source": [
    "plt.title(\"English\")\n",
    "plot_lens_hist(train_dataset.src_texts)"
   ]
  },
  {
   "cell_type": "code",
   "execution_count": 7,
   "metadata": {
    "scrolled": false
   },
   "outputs": [
    {
     "data": {
      "image/png": "[encoded data removed]",
      "text/plain": [
       "<Figure size 432x288 with 1 Axes>"
      ]
     },
     "metadata": {
      "needs_background": "light"
     },
     "output_type": "display_data"
    },
    {
     "name": "stdout",
     "output_type": "stream",
     "text": [
      "95% percentile: 42.0\n"
     ]
    }
   ],
   "source": [
    "plt.title(\"Denmark\")\n",
    "plot_lens_hist(train_dataset.trg_texts)"
   ]
  },
  {
   "cell_type": "markdown",
   "metadata": {},
   "source": [
    "### Model"
   ]
  },
  {
   "cell_type": "code",
   "execution_count": 91,
   "metadata": {},
   "outputs": [],
   "source": [
    "import torch\n",
    "import torch.nn as nn\n",
    "\n",
    "\n",
    "class BasicNet(nn.Module):\n",
    "    def __init__(self, vocab, config):\n",
    "        super().__init__()\n",
    "        \n",
    "        self.vocab = vocab\n",
    "        self.eos_idx = vocab.word_to_idx[vocab._EOS]\n",
    "        self.bos_idx = vocab.word_to_idx[vocab._SOS]\n",
    "        n_tokens = vocab.vocab_size\n",
    "\n",
    "        self.enc_emb = nn.Embedding(n_tokens, config[\"enc_emb_size\"], self.eos_idx)\n",
    "        self.enc_lstm = nn.LSTM(config[\"enc_emb_size\"], config[\"enc_hid_size\"], 2, batch_first=True)\n",
    "        self.dec_emb = nn.Embedding(n_tokens, config[\"dec_emb_size\"], self.eos_idx)\n",
    "        self.dec_gru = nn.GRUCell(config[\"dec_emb_size\"], config[\"dec_hid_size\"])\n",
    "        self.dec_fc = nn.Linear(config[\"dec_hid_size\"], n_tokens)\n",
    "\n",
    "    def forward(self, inp_tokens, out_tokens):\n",
    "        \"\"\" Apply model in training mode \"\"\"\n",
    "        initial_state = self.encode(inp_tokens)\n",
    "        return self.decode(initial_state, out_tokens)\n",
    "\n",
    "    def encode(self, inp_tokens, **flags):\n",
    "        \"\"\"\n",
    "        Takes symbolic input sequence, computes initial state\n",
    "        :param inp: matrix of input tokens [batch, time]\n",
    "        :returns: initial decoder state tensors, one or many\n",
    "        \"\"\"\n",
    "        # Shape: (batch_size, seq_len, emb_size)\n",
    "        emb = self.enc_emb(inp_tokens.clone())  # TODO: Remove clone\n",
    "        # Shape: (batch_size)\n",
    "        lengths = (inp_tokens != self.eos_idx).to(torch.int64).sum(dim=1).clamp_max(inp_tokens.shape[1] - 1)\n",
    "        # Shape: (batch_size, seq_len, hid_size)\n",
    "        enc_seq, _ = self.enc_lstm(emb)\n",
    "        # Shape: (batch_size, hid_size)\n",
    "        last_state = enc_seq[torch.arange(len(enc_seq)), lengths]\n",
    "\n",
    "        return last_state\n",
    "\n",
    "    def decode_step(self, prev_state, prev_tokens):\n",
    "        \"\"\"\n",
    "        Takes previous decoder state and tokens, returns new state and logits for next tokens\n",
    "        :param prev_state: a list of previous decoder state tensors, same as returned by encode(...)\n",
    "        :param prev_tokens: previous output tokens, an int vector of [batch_size]\n",
    "        :return: a list of next decoder state tensors, a tensor of logits [batch, len(out_voc)]\n",
    "        \"\"\"\n",
    "        # Shape: [batch_size, emb_size]\n",
    "        prev_embs = self.dec_emb(prev_tokens)\n",
    "        # Shape: [batch_size, hid_size]\n",
    "        next_state = self.dec_gru(prev_embs, prev_state)\n",
    "        # Shape: [batch_size, vocab_size]\n",
    "        logits = self.dec_fc(next_state)\n",
    "\n",
    "        return next_state, logits\n",
    "\n",
    "    def decode(self, initial_state, out_tokens, **flags):\n",
    "        \"\"\" \n",
    "        Iterate over reference tokens (out_tokens) with decode_step\n",
    "        :param initial_state: Initial state for decoder with shape [batch_dize, hid_size]\n",
    "        :param out_tokens: Output tokens, an int vector of [batch_size, seq_len]\n",
    "        :return: A tensor with logits with shape [batch_size, seq_len, vocab_size]\n",
    "        \"\"\"\n",
    "        batch_size = out_tokens.shape[0]\n",
    "        state = initial_state\n",
    "\n",
    "        logits_sequence = []\n",
    "        for i in range(out_tokens.shape[1]):\n",
    "            state, logits = self.decode_step(state, out_tokens[:, i])\n",
    "            logits_sequence.append(logits)\n",
    "        return torch.stack(logits_sequence, dim=1)\n",
    "\n",
    "    def decode_inference(self, initial_state, max_len=100, **flags):\n",
    "        \"\"\" Generate translations from model (greedy version) \"\"\"\n",
    "        batch_size, device = len(initial_state), initial_state.device\n",
    "        state = initial_state\n",
    "        \n",
    "        outputs = [torch.full([batch_size], self.bos_idx, dtype=torch.int64, device=device)]\n",
    "        # all_states = [initial_state]\n",
    "\n",
    "        for i in range(max_len):\n",
    "            state, logits = self.decode_step(state, outputs[-1])\n",
    "            outputs.append(logits.argmax(dim=-1))\n",
    "            # all_states.append(state)\n",
    "\n",
    "        return torch.stack(outputs, dim=1)\n",
    "\n",
    "    @property\n",
    "    def name(self):\n",
    "        return \"baseline\"\n"
   ]
  },
  {
   "cell_type": "code",
   "execution_count": 92,
   "metadata": {},
   "outputs": [],
   "source": [
    "model = BasicNet(trg_vocab, train_config)"
   ]
  },
  {
   "cell_type": "code",
   "execution_count": 93,
   "metadata": {},
   "outputs": [],
   "source": [
    "inp_tensor, out_tensor = train_dataset[0]\n",
    "inp_tensor = inp_tensor.unsqueeze(0)\n",
    "out_tensor = out_tensor.unsqueeze(0)"
   ]
  },
  {
   "cell_type": "code",
   "execution_count": 94,
   "metadata": {},
   "outputs": [
    {
     "data": {
      "text/plain": [
       "torch.Size([1, 42])"
      ]
     },
     "execution_count": 94,
     "metadata": {},
     "output_type": "execute_result"
    }
   ],
   "source": [
    "out_tensor.shape"
   ]
  },
  {
   "cell_type": "code",
   "execution_count": 95,
   "metadata": {},
   "outputs": [],
   "source": [
    "enc_last_state = model.encode(inp_tensor)"
   ]
  },
  {
   "cell_type": "code",
   "execution_count": 96,
   "metadata": {},
   "outputs": [
    {
     "data": {
      "text/plain": [
       "torch.Size([1, 42])"
      ]
     },
     "execution_count": 96,
     "metadata": {},
     "output_type": "execute_result"
    }
   ],
   "source": [
    "out_tensor.shape"
   ]
  },
  {
   "cell_type": "code",
   "execution_count": 97,
   "metadata": {},
   "outputs": [],
   "source": [
    "tmp = model.decode_step(enc_last_state, out_tensor[:, 0])"
   ]
  },
  {
   "cell_type": "code",
   "execution_count": 98,
   "metadata": {},
   "outputs": [],
   "source": [
    "res = model.decode(enc_last_state, out_tensor)"
   ]
  },
  {
   "cell_type": "code",
   "execution_count": 99,
   "metadata": {},
   "outputs": [
    {
     "data": {
      "text/plain": [
       "tensor([[   1,  787, 2977, 2078, 3829, 1575, 3829, 1575, 4571, 1491, 4035, 2471,\n",
       "          991,  869,  193, 3673, 3467, 4779, 4779,   73, 4035, 2195, 4486, 1701,\n",
       "         2768,  193,  713, 3913, 4571, 1491, 4035, 2471,  991,  869,  193, 4015,\n",
       "         1596,  713, 4566,  713, 4328,  193,  193,  907, 4063, 4779, 4779,   73,\n",
       "         4035, 2195, 4486, 1701, 2768,  193,  713, 3913, 4571, 1491, 4035, 2471,\n",
       "          991,  869,  193, 4015, 1596,  713, 4566,  713, 4328,  193,  193,  907,\n",
       "         4063, 4779, 4779,   73, 4035, 2195, 4486, 1701, 2768,  193,  713, 3913,\n",
       "         4571, 1491, 4035, 2471,  991,  869,  193, 4015, 1596,  713, 4566,  713,\n",
       "         4328,  193,  193,  907, 4063]])"
      ]
     },
     "execution_count": 99,
     "metadata": {},
     "output_type": "execute_result"
    }
   ],
   "source": [
    "model.decode_inference(enc_last_state)"
   ]
  },
  {
   "cell_type": "code",
   "execution_count": 70,
   "metadata": {},
   "outputs": [
    {
     "data": {
      "text/plain": [
       "torch.Size([1, 42, 5000])"
      ]
     },
     "execution_count": 70,
     "metadata": {},
     "output_type": "execute_result"
    }
   ],
   "source": [
    "res.shape"
   ]
  },
  {
   "cell_type": "code",
   "execution_count": 12,
   "metadata": {},
   "outputs": [],
   "source": [
    "import torch\n",
    "import torch.nn as nn"
   ]
  },
  {
   "cell_type": "code",
   "execution_count": 13,
   "metadata": {
    "scrolled": true
   },
   "outputs": [],
   "source": [
    "class Encoder(nn.Module):\n",
    "    def __init__(self, vocab, emb_size, hid_size):\n",
    "        super().__init__() # initialize base class to track sub-layers, trainable variables, etc.\n",
    "        \n",
    "        self.vocab = vocab\n",
    "        self.eos_idx = vocab.word_to_idx[vocab._EOS]\n",
    "        n_tokens = vocab.vocab_size\n",
    "        self.emb = nn.Embedding(n_tokens, emb_size, self.eos_idx)\n",
    "        self.lstm = nn.LSTM(emb_size, hid_size, 2, batch_first=True)\n",
    "    \n",
    "    def forward(self, inp):\n",
    "        # Shape: (batch_size, seq_len, emb_size)\n",
    "        emb = self.emb(inp.clone())\n",
    "        # Shape: (batch_size, seq_len, hid_size)\n",
    "        lengths = (inp != self.eos_idx).to(torch.int64).sum(dim=1).clamp_max(inp.shape[1] - 1)\n",
    "        enc_seq, hidden = self.lstm(emb)\n",
    "        last_state = enc_seq[torch.arange(len(enc_seq)), lengths]\n",
    "        \n",
    "        return last_state"
   ]
  },
  {
   "cell_type": "code",
   "execution_count": 14,
   "metadata": {},
   "outputs": [],
   "source": [
    "# encoder = Encoder(en_vocab)"
   ]
  },
  {
   "cell_type": "code",
   "execution_count": 15,
   "metadata": {
    "scrolled": true
   },
   "outputs": [],
   "source": [
    "# test_tensor = torch.from_numpy(train_en_idxs[0])\n",
    "# test_tensor = test_tensor.unsqueeze(0)\n",
    "# encoder(test_tensor).shape"
   ]
  },
  {
   "cell_type": "code",
   "execution_count": 16,
   "metadata": {},
   "outputs": [],
   "source": [
    "class Decoder(nn.Module):\n",
    "    def __init__(self, vocab, emb_size, hid_size):\n",
    "        super().__init__()\n",
    "        \n",
    "        self.vocab = vocab\n",
    "        self.eos_idx = vocab.word_to_idx[vocab._EOS]\n",
    "        n_tokens = vocab.vocab_size\n",
    "        self.emb = nn.Embedding(n_tokens, emb_size, self.eos_idx)\n",
    "        self.gru = nn.GRU(emb_size, hid_size, batch_first=True)\n",
    "        self.fc = nn.Linear(hid_size, n_tokens)\n",
    "    \n",
    "    def forward(self, inp, hidden):\n",
    "        # Shape: (batch_size, seq_len, emb_size)\n",
    "        emb = self.emb(inp.clone())\n",
    "        \n",
    "        output, _ = self.gru(emb, hidden.unsqueeze(0))\n",
    "        output = self.fc(output)\n",
    "        return output"
   ]
  },
  {
   "cell_type": "code",
   "execution_count": 17,
   "metadata": {},
   "outputs": [],
   "source": [
    "# decoder = Decoder(de_vocab)"
   ]
  },
  {
   "cell_type": "code",
   "execution_count": 18,
   "metadata": {},
   "outputs": [],
   "source": [
    "# enc_test_tensor = torch.from_numpy(train_en_idxs[0])\n",
    "# enc_test_tensor = enc_test_tensor.unsqueeze(0)\n",
    "# enc_hidden = encoder(enc_test_tensor)\n",
    "\n",
    "# dec_test_tensor = torch.from_numpy(train_de_idxs[0])\n",
    "# dec_test_tensor = dec_test_tensor.unsqueeze(0)\n",
    "# logits = decoder(dec_test_tensor, enc_hidden)"
   ]
  },
  {
   "cell_type": "code",
   "execution_count": 19,
   "metadata": {},
   "outputs": [],
   "source": [
    "import torch.nn.functional as F\n",
    "\n",
    "def compute_mask(input_ix, eos_ix):\n",
    "    return F.pad(torch.cumsum(input_ix == eos_ix, dim=-1)[..., :-1] < 1, \\\n",
    "                 pad=(1, 0, 0, 0), value=True)\n"
   ]
  },
  {
   "cell_type": "code",
   "execution_count": 20,
   "metadata": {},
   "outputs": [],
   "source": [
    "# compute_loss(encoder, decoder, enc_test_tensor, dec_test_tensor)"
   ]
  },
  {
   "cell_type": "code",
   "execution_count": 21,
   "metadata": {},
   "outputs": [
    {
     "name": "stderr",
     "output_type": "stream",
     "text": [
      "wandb: Currently logged in as: whitera2bit (use `wandb login --relogin` to force relogin)\n",
      "wandb: wandb version 0.10.8 is available!  To upgrade, please run:\n",
      "wandb:  $ pip install wandb --upgrade\n"
     ]
    },
    {
     "data": {
      "text/html": [
       "\n",
       "                Tracking run with wandb version 0.10.5<br/>\n",
       "                Syncing run <strong style=\"color:#cdcd00\">kind-rain-31</strong> to <a href=\"https://wandb.ai\" target=\"_blank\">Weights & Biases</a> <a href=\"https://docs.wandb.com/integrations/jupyter.html\" target=\"_blank\">(Documentation)</a>.<br/>\n",
       "                Project page: <a href=\"https://wandb.ai/whitera2bit/dl_hse_nmt\" target=\"_blank\">https://wandb.ai/whitera2bit/dl_hse_nmt</a><br/>\n",
       "                Run page: <a href=\"https://wandb.ai/whitera2bit/dl_hse_nmt/runs/3sxaf91u\" target=\"_blank\">https://wandb.ai/whitera2bit/dl_hse_nmt/runs/3sxaf91u</a><br/>\n",
       "                Run data is saved locally in <code>wandb/run-20201023_085358-3sxaf91u</code><br/><br/>\n",
       "            "
      ],
      "text/plain": [
       "<IPython.core.display.HTML object>"
      ]
     },
     "metadata": {},
     "output_type": "display_data"
    },
    {
     "data": {
      "text/html": [
       "<h1>Run(3sxaf91u)</h1><p></p><iframe src=\"https://wandb.ai/whitera2bit/dl_hse_nmt/runs/3sxaf91u\" style=\"border:none;width:100%;height:400px\"></iframe>"
      ],
      "text/plain": [
       "<wandb.sdk.wandb_run.Run at 0x7f36b0722a50>"
      ]
     },
     "execution_count": 21,
     "metadata": {},
     "output_type": "execute_result"
    }
   ],
   "source": [
    "import wandb\n",
    "wandb.init(config=CONFIG, project=\"dl_hse_nmt\")"
   ]
  },
  {
   "cell_type": "code",
   "execution_count": 22,
   "metadata": {},
   "outputs": [],
   "source": [
    "device = train_config[\"device\"]\n",
    "\n",
    "encoder = Encoder(en_vocab, train_config[\"enc_emb_size\"], train_config[\"enc_hid_size\"])\n",
    "encoder = encoder.to(device)\n",
    "decoder = Decoder(de_vocab, train_config[\"dec_emb_size\"], train_config[\"dec_hid_size\"])\n",
    "decoder = decoder.to(device)\n",
    "params = list(encoder.parameters()) + list(decoder.parameters())\n",
    "optimizer = torch.optim.Adam(params, lr=train_config[\"lr\"])"
   ]
  },
  {
   "cell_type": "code",
   "execution_count": 23,
   "metadata": {},
   "outputs": [],
   "source": [
    "from nltk.translate.bleu_score import corpus_bleu\n",
    "\n",
    "def compute_bleu(trans, real, bpe_sep='@@ ', **flags):\n",
    "    \"\"\"\n",
    "    Estimates corpora-level BLEU score of model's translations given inp and reference out\n",
    "    Note: if you're serious about reporting your results, use https://pypi.org/project/sacrebleu\n",
    "    \"\"\"\n",
    "    return corpus_bleu(\n",
    "        [[ref.split()] for ref in real],\n",
    "        [trans.split() for trans in trans],\n",
    "        smoothing_function=lambda precisions, **kw: [p + 1.0 / p.denominator for p in precisions]\n",
    "        ) * 100\n",
    "\n",
    "\n"
   ]
  },
  {
   "cell_type": "code",
   "execution_count": 24,
   "metadata": {},
   "outputs": [],
   "source": [
    "def translate(logits):\n",
    "    pred_idxs = torch.argmax(logits, dim=2)\n",
    "    pred_idxs = pred_idxs.detach().cpu().numpy()\n",
    "    texts = []\n",
    "    for text_idxs in pred_idxs:\n",
    "        texts.append(de_vocab.decode(text_idxs))\n",
    "    \n",
    "    return texts"
   ]
  },
  {
   "cell_type": "code",
   "execution_count": 2,
   "metadata": {},
   "outputs": [
    {
     "data": {
      "text/plain": [
       "'1.18.1'"
      ]
     },
     "execution_count": 2,
     "metadata": {},
     "output_type": "execute_result"
    }
   ],
   "source": [
    "import numpy as np\n",
    "np.__version__"
   ]
  },
  {
   "cell_type": "code",
   "execution_count": 25,
   "metadata": {
    "scrolled": true
   },
   "outputs": [
    {
     "name": "stderr",
     "output_type": "stream",
     "text": [
      "3062it [00:47, 64.33it/s]\n",
      "3062it [00:47, 63.99it/s]\n",
      "3062it [00:47, 65.07it/s]\n",
      "3062it [00:46, 66.44it/s]\n",
      "3062it [00:46, 65.38it/s]\n",
      "3062it [00:46, 65.32it/s]\n",
      "3062it [00:46, 66.15it/s]\n",
      "3062it [00:47, 64.98it/s]\n",
      "3062it [00:46, 66.23it/s]\n",
      "3062it [00:46, 66.33it/s]\n",
      "3062it [00:46, 65.66it/s]\n",
      "3062it [00:46, 66.16it/s]\n",
      "3062it [00:46, 66.23it/s]\n",
      "3062it [00:45, 66.61it/s]\n",
      "3062it [00:47, 63.81it/s]\n",
      "3062it [00:46, 65.45it/s]\n",
      "3062it [00:45, 66.74it/s]\n",
      "3062it [00:46, 65.28it/s]\n",
      "3062it [00:46, 66.37it/s]\n",
      "3062it [00:46, 65.87it/s]\n",
      "3062it [00:46, 66.09it/s]\n",
      "3062it [00:45, 67.00it/s]\n",
      "3062it [00:46, 66.30it/s]\n",
      "3062it [00:46, 66.44it/s]\n",
      "3062it [00:47, 65.01it/s]\n",
      "3062it [00:47, 65.15it/s]\n",
      "3062it [00:46, 65.77it/s]\n",
      "3062it [00:47, 64.92it/s]\n",
      "3062it [00:47, 64.49it/s]\n",
      "3062it [00:46, 65.62it/s]\n",
      "3062it [00:46, 65.26it/s]\n",
      "3062it [00:46, 65.90it/s]\n",
      "3062it [00:46, 66.44it/s]\n",
      "3062it [00:46, 65.73it/s]\n",
      "3062it [00:46, 65.43it/s]\n",
      "3062it [00:47, 63.81it/s]\n",
      "3062it [00:46, 65.81it/s]\n",
      "3062it [00:47, 65.10it/s]\n",
      "3062it [00:46, 65.82it/s]\n",
      "3062it [00:46, 66.22it/s]\n",
      "3062it [00:48, 63.39it/s]\n",
      "3062it [00:46, 65.26it/s]\n",
      "3062it [00:47, 63.97it/s]\n",
      "3062it [00:46, 65.30it/s]\n",
      "3062it [00:46, 65.76it/s]\n",
      "3062it [00:46, 65.67it/s]\n",
      "3062it [00:47, 64.65it/s]\n",
      "3062it [00:46, 65.26it/s]\n",
      "3062it [00:46, 66.16it/s]\n",
      "3062it [00:47, 64.73it/s]\n",
      "3062it [00:46, 65.85it/s]\n",
      "3062it [00:47, 65.01it/s]\n",
      "3062it [00:48, 63.55it/s]\n",
      "3062it [00:47, 64.95it/s]\n",
      "3062it [00:46, 65.87it/s]\n",
      "3062it [00:47, 65.08it/s]\n",
      "3062it [00:47, 64.81it/s]\n",
      "3062it [00:47, 64.78it/s]\n",
      "3062it [00:46, 65.36it/s]\n",
      "3062it [00:46, 65.33it/s]\n",
      "3062it [00:46, 66.12it/s]\n",
      "3062it [00:46, 65.46it/s]\n",
      "3062it [00:46, 65.30it/s]\n",
      "3062it [00:46, 66.21it/s]\n",
      "3062it [00:47, 65.03it/s]\n",
      "3062it [00:47, 65.06it/s]\n",
      "3062it [00:46, 66.28it/s]\n",
      "3062it [00:48, 63.79it/s]\n",
      "3062it [00:47, 64.21it/s]\n",
      "3062it [00:46, 66.55it/s]\n",
      "3062it [00:46, 65.20it/s]\n",
      "3062it [00:47, 65.15it/s]\n",
      "3062it [00:47, 64.62it/s]\n",
      "3062it [00:46, 65.55it/s]\n",
      "3062it [00:45, 66.73it/s]\n",
      "3062it [00:48, 63.67it/s]\n",
      "3062it [00:47, 64.88it/s]\n",
      "3062it [00:47, 64.45it/s]\n",
      "3062it [00:47, 63.81it/s]\n",
      "3062it [00:48, 63.65it/s]\n",
      "3062it [00:46, 65.46it/s]\n",
      "3062it [00:46, 65.96it/s]\n",
      "3062it [00:46, 66.23it/s]\n",
      "3062it [00:46, 66.16it/s]\n",
      "3062it [00:46, 65.40it/s]\n",
      "3062it [00:47, 64.92it/s]\n",
      "3062it [00:47, 64.81it/s]\n",
      "3062it [00:47, 65.02it/s]\n",
      "3062it [00:47, 64.61it/s]\n",
      "3062it [00:47, 64.36it/s]\n",
      "3062it [00:46, 65.32it/s]\n",
      "3062it [00:46, 65.43it/s]\n",
      "3062it [00:46, 66.25it/s]\n",
      "3062it [00:45, 66.57it/s]\n",
      "3062it [00:47, 64.58it/s]\n",
      "3062it [00:46, 65.50it/s]\n",
      "3062it [00:47, 63.91it/s]\n",
      "3062it [00:46, 65.30it/s]\n",
      "3062it [00:46, 65.98it/s]\n",
      "3062it [00:47, 64.89it/s]\n"
     ]
    }
   ],
   "source": [
    "for epoch in range(train_config[\"epochs_num\"]):\n",
    "    for idx, item in tqdm.tqdm(enumerate(train_dataloader)):\n",
    "        inp, out = item\n",
    "        inp = inp.to(device)\n",
    "        out = out.to(device)\n",
    "        \n",
    "#         print(\"==\"*30)\n",
    "#         print(inp)\n",
    "#         print(out)\n",
    "        \n",
    "        optimizer.zero_grad()\n",
    "        \n",
    "#         loss = compute_loss(encoder, decoder, inp, out)\n",
    "        enc_out = encoder(inp)\n",
    "        logits = decoder(out, enc_out)\n",
    "        loss = compute_loss(logits, inp, out)\n",
    "        \n",
    "        loss.backward()\n",
    "        optimizer.step()\n",
    "        \n",
    "        if idx % train_config[\"log_each\"] == 0:\n",
    "            with torch.no_grad():\n",
    "                val_real_idxs = []\n",
    "                val_translations = []\n",
    "                for val_item in val_dataloader:\n",
    "                    val_inp, val_out = val_item\n",
    "                    val_inp = val_inp.to(device)\n",
    "                    val_out = val_out.to(device)\n",
    "\n",
    "                    val_enc_out = encoder(val_inp)\n",
    "                    val_logits = decoder(val_out, val_enc_out)\n",
    "                    val_loss = compute_loss(val_logits, val_inp, val_out)\n",
    "\n",
    "                    val_real_idxs.append(val_out)\n",
    "                    val_translations += translate(val_logits)\n",
    "\n",
    "            val_real_idxs = torch.cat(val_real_idxs, dim=0)\n",
    "            val_real_idxs = val_real_idxs.detach().cpu().numpy()\n",
    "            val_real = de_vocab.decode_idxs(val_real_idxs)\n",
    "            val_bleu = compute_bleu(val_translations, val_real)\n",
    "            \n",
    "            example_idxs = np.random.choice(range(len(val_dataset)), 10)\n",
    "            examples_real = np.array(val_real)[example_idxs]\n",
    "            examples_pred = np.array(val_translations)[example_idxs]\n",
    "            examples = list(zip(examples_real, examples_pred))\n",
    "            \n",
    "            wandb.log({\n",
    "                \"Train loss\": loss,\n",
    "                \"Val loss\": val_loss,\n",
    "                \"Val bleu\": val_bleu,\n",
    "                \"Examples\": wandb.Table(data=examples, \\\n",
    "                                columns=[\"Real\", \"Translation\"])\n",
    "            })"
   ]
  }
 ],
 "metadata": {
  "kernelspec": {
   "display_name": "Python 3",
   "language": "python",
   "name": "python3"
  },
  "language_info": {
   "codemirror_mode": {
    "name": "ipython",
    "version": 3
   },
   "file_extension": ".py",
   "mimetype": "text/x-python",
   "name": "python",
   "nbconvert_exporter": "python",
   "pygments_lexer": "ipython3",
   "version": "3.7.6"
  }
 },
 "nbformat": 4,
 "nbformat_minor": 4
}
